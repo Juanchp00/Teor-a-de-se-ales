{
  "nbformat": 4,
  "nbformat_minor": 0,
  "metadata": {
    "colab": {
      "name": "Quiz 1.ipynb",
      "provenance": [],
      "authorship_tag": "ABX9TyPQPJx+swCq8TNJ5451fVNv",
      "include_colab_link": true
    },
    "kernelspec": {
      "name": "python3",
      "display_name": "Python 3"
    }
  },
  "cells": [
    {
      "cell_type": "markdown",
      "metadata": {
        "id": "view-in-github",
        "colab_type": "text"
      },
      "source": [
        "<a href=\"https://colab.research.google.com/github/Juanchp00/Teor-a-de-se-ales/blob/Juanchp00-practica/Quiz_1.ipynb\" target=\"_parent\"><img src=\"https://colab.research.google.com/assets/colab-badge.svg\" alt=\"Open In Colab\"/></a>"
      ]
    },
    {
      "cell_type": "markdown",
      "metadata": {
        "id": "RuZEudG0KU60"
      },
      "source": [
        "## Encontrar la función de transferencia al cirtuito ##\n",
        "\n",
        "Sabemos que:\n",
        "\n",
        "$$H(w)=\\frac{Y(w)}{X(w)}$$\n",
        "\n",
        "teniendo en cuenta el circuito podemos definir las relaciones entre las componentes\n",
        "\n",
        "$$v_{R1}(t)=y(t)=R_1 i(t)$$\n",
        "$$v_{R2}(t)=R_2 i(t)$$\n",
        "$$v_c(t)=\\frac{1}{C}\\int i(t) dt$$\n",
        "\n",
        "en donde teniendo en cuenta el circuito\n",
        "\n",
        "$$x(t)= V_{R1}(t)+V_{R2}(t)+ V_c(t)$$\n",
        "\n",
        "si determinamos la trasformada de Fourier para cada caso por la propiedad de linealidad tenemos que\n",
        "\n",
        "$$V_{R1}(w)=Y(w)=R_1 I(w)$$\n",
        "$$V_{R2}(w)=R_2 I(w)$$\n",
        "$$V_c(w)=\\frac{1}{Cjw} I(w)$$\n",
        "\n",
        "por lo que la señal de entrada estaría definida por\n",
        "\n",
        "$$X(w)= V_{R1}(w)+V_{R2}(w)+ V_c(w)$$\n",
        "$$X(w)= R_1 I(w)+R_2 I(w)+ \\frac{1}{Cjw} I(w)$$\n",
        "\n",
        "Donde como se trata de una malla, comparten la misma corriente"
      ]
    },
    {
      "cell_type": "code",
      "metadata": {
        "id": "SYhIM8xbKJ8I"
      },
      "source": [
        "\n",
        "from sympy import Symbol\n",
        "import numpy as np\n",
        "import sympy as sp\n",
        "from matplotlib import pyplot as plt\n",
        "from matplotlib import pyplot as plt\n",
        "import matplotlib\n",
        "\n",
        "matplotlib.rcParams['figure.figsize'] = (20, 6)\n",
        "matplotlib.rcParams['figure.dpi'] = 90\n",
        "\n",
        "from ipywidgets import interact, interactive, fixed, interact_manual\n",
        "\n",
        "R1 = Symbol('R1')\n",
        "R2 = Symbol('R2')\n",
        "C1 = Symbol('C1')\n",
        "I1 = Symbol('I1')\n",
        "x = Symbol('x')\n",
        "jw = Symbol('jw')\n",
        "t = Symbol('t')\n",
        "y= Symbol('y')"
      ],
      "execution_count": null,
      "outputs": []
    },
    {
      "cell_type": "markdown",
      "metadata": {
        "id": "eLVOUzKnOhtM"
      },
      "source": [
        "Si yo despejo $I(w)$\n",
        "\n",
        "$$I(w)= \\frac{X(w)}{(R_1+R_2+ \\frac{1}{Cjw})}$$"
      ]
    },
    {
      "cell_type": "code",
      "metadata": {
        "colab": {
          "base_uri": "https://localhost:8080/",
          "height": 57
        },
        "id": "BeOciEq6N9Fr",
        "outputId": "39c8d054-aa2e-47b5-da78-c4f603b32577"
      },
      "source": [
        "A=R1+R2+(1/(C1*jw))\n",
        "B=x\n",
        "I=B/A\n",
        "I"
      ],
      "execution_count": null,
      "outputs": [
        {
          "output_type": "execute_result",
          "data": {
            "text/latex": "$\\displaystyle \\frac{x}{R_{1} + R_{2} + \\frac{1}{C_{1} jw}}$",
            "text/plain": [
              "x/(R1 + R2 + 1/(C1*jw))"
            ]
          },
          "metadata": {
            "tags": []
          },
          "execution_count": 8
        }
      ]
    },
    {
      "cell_type": "markdown",
      "metadata": {
        "id": "7mCqfpbHPzi1"
      },
      "source": [
        "Además, como ya se dijo anteriormente\n",
        "\n",
        "$$Y(w)=V_{R1}(w)=R_1 I(w)$$\n",
        "\n",
        "y\n",
        "\n",
        "$$X(w)=I(w)(R_1+R_2+ \\frac{1}{Cjw})$$\n",
        "\n",
        "por lo que la funcion de transferencia sería\n",
        "\n",
        "$$H(w)=\\frac{Y(w)}{X(w)}= \\frac{R_1 I(w)}{I(w)(R_1+R_2+ \\frac{1}{Cjw})}=\\frac{R_1}{(R_1+R_2+ \\frac{1}{Cjw})}$$\n",
        "\n",
        "\n"
      ]
    },
    {
      "cell_type": "code",
      "metadata": {
        "colab": {
          "base_uri": "https://localhost:8080/",
          "height": 61
        },
        "id": "U06gvcslPN1g",
        "outputId": "0bc8f94f-b22a-4220-8414-ea97a68eb1a7"
      },
      "source": [
        "y=R1*I\n",
        "B=A*I\n",
        "H=y/B\n",
        "H"
      ],
      "execution_count": null,
      "outputs": [
        {
          "output_type": "execute_result",
          "data": {
            "text/latex": "$\\displaystyle \\frac{R_{1}}{R_{1} + R_{2} + \\frac{1}{C_{1} jw}}$",
            "text/plain": [
              "R1/(R1 + R2 + 1/(C1*jw))"
            ]
          },
          "metadata": {
            "tags": []
          },
          "execution_count": 12
        }
      ]
    },
    {
      "cell_type": "markdown",
      "metadata": {
        "id": "VdQe1koFRZ7Q"
      },
      "source": [
        "simplificando tenemos que \n",
        "$$H(\\omega) = \\dfrac{C1R1j\\omega}{(C1j\\omega(R1 + R2) + 1}$$"
      ]
    },
    {
      "cell_type": "code",
      "metadata": {
        "colab": {
          "base_uri": "https://localhost:8080/",
          "height": 55
        },
        "id": "6VXRMBVaQV4V",
        "outputId": "08a40705-ce6c-4aaa-8bf3-b6d4218defc0"
      },
      "source": [
        "H.simplify()"
      ],
      "execution_count": null,
      "outputs": [
        {
          "output_type": "execute_result",
          "data": {
            "text/latex": "$\\displaystyle \\frac{C_{1} R_{1} jw}{C_{1} jw \\left(R_{1} + R_{2}\\right) + 1}$",
            "text/plain": [
              "C1*R1*jw/(C1*jw*(R1 + R2) + 1)"
            ]
          },
          "metadata": {
            "tags": []
          },
          "execution_count": 13
        }
      ]
    },
    {
      "cell_type": "markdown",
      "metadata": {
        "id": "PpbHN5e8dZZB"
      },
      "source": [
        "Ahora simulamos la onda de entrada y de salida y obtenemos su respectivo espectro en frecencia, tomando como señal de entrada:\n",
        "\n",
        "$$x(t)= rect_1(t-1)$$"
      ]
    },
    {
      "cell_type": "code",
      "metadata": {
        "id": "1RyJtIFoRf4y"
      },
      "source": [
        ""
      ],
      "execution_count": null,
      "outputs": []
    }
  ]
}