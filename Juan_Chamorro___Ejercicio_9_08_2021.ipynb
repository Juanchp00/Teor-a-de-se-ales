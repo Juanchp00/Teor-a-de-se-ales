{
  "nbformat": 4,
  "nbformat_minor": 0,
  "metadata": {
    "colab": {
      "name": "Juan Chamorro _ Ejercicio 9/08/2021 ",
      "provenance": [],
      "authorship_tag": "ABX9TyPGOAQBKm/dVBVBFbRWnJdw",
      "include_colab_link": true
    },
    "kernelspec": {
      "display_name": "Python 3",
      "name": "python3"
    },
    "language_info": {
      "name": "python"
    }
  },
  "cells": [
    {
      "cell_type": "markdown",
      "metadata": {
        "id": "view-in-github",
        "colab_type": "text"
      },
      "source": [
        "<a href=\"https://colab.research.google.com/github/Juanchp00/Teor-a-de-se-ales/blob/main/Juan_Chamorro___Ejercicio_9_08_2021.ipynb\" target=\"_parent\"><img src=\"https://colab.research.google.com/assets/colab-badge.svg\" alt=\"Open In Colab\"/></a>"
      ]
    },
    {
      "cell_type": "markdown",
      "metadata": {
        "id": "ICdH19ZJqU-4"
      },
      "source": [
        "#Ejercicio 9/08/2021\n",
        "\n",
        "**Juan José Chamorro Paz - 817513**"
      ]
    },
    {
      "cell_type": "markdown",
      "metadata": {
        "id": "ls-raLKFqofa"
      },
      "source": [
        "##Texto en ingles "
      ]
    },
    {
      "cell_type": "markdown",
      "metadata": {
        "id": "gQrDEzB4qr1-"
      },
      "source": [
        "### Datos iniciales y Entropía "
      ]
    },
    {
      "cell_type": "code",
      "metadata": {
        "colab": {
          "base_uri": "https://localhost:8080/"
        },
        "id": "abnzHiX2qlQ7",
        "outputId": "74e5997c-9249-421a-c82d-d71a95b8ec16"
      },
      "source": [
        "# Reading a tex\n",
        "import numpy as np\n",
        "from matplotlib import pyplot as plt\n",
        "import unicodedata\n",
        "\n",
        " \n",
        "with open(\"EnglishRead (1).txt\") as f:\n",
        "    st=f.read()\n",
        "    st=unicodedata.normalize(\"NFKD\", st)\n",
        "    a = np.array(list(st))\n",
        " \n",
        "char, cnt = np.unique(a, return_counts=True)\n",
        "print(char)\n",
        "x=np.linspace(1,len(cnt),len(cnt))\n",
        "p = cnt/np.sum(cnt)\n",
        "\n",
        "H = -np.sum(p * np.log2(p))\n",
        "\n",
        "prob=np.zeros(len(cnt))\n",
        "\n",
        "for i in range (0,len(cnt)):\n",
        "  prob[i]=cnt[i]/np.sum(cnt) \n",
        "\n",
        "print('La entropía es: ', H)"
      ],
      "execution_count": 39,
      "outputs": [
        {
          "output_type": "stream",
          "text": [
            "[' ' '.' 'a' 'b' 'c' 'd' 'e' 'f' 'g' 'h' 'i' 'j' 'k' 'l' 'm' 'n' 'o' 'p'\n",
            " 'q' 'r' 's' 't' 'u' 'v' 'w' 'x' 'y' 'z']\n",
            "La entropía es:  4.178084676264878\n"
          ],
          "name": "stdout"
        }
      ]
    },
    {
      "cell_type": "markdown",
      "metadata": {
        "id": "U0Pt4pUDq1S9"
      },
      "source": [
        "**Histograma**"
      ]
    },
    {
      "cell_type": "code",
      "metadata": {
        "colab": {
          "base_uri": "https://localhost:8080/",
          "height": 336
        },
        "id": "t-jin14tqu5Q",
        "outputId": "1f92ec0c-50ba-4c56-af70-be74867d4b5d"
      },
      "source": [
        "plt.stem(x,p,'b')\n",
        "plt.ylabel('P(x_n)')\n",
        "plt.show()"
      ],
      "execution_count": 40,
      "outputs": [
        {
          "output_type": "stream",
          "text": [
            "/usr/local/lib/python3.7/dist-packages/ipykernel_launcher.py:1: UserWarning: In Matplotlib 3.3 individual lines on a stem plot will be added as a LineCollection instead of individual lines. This significantly improves the performance of a stem plot. To remove this warning and switch to the new behaviour, set the \"use_line_collection\" keyword argument to True.\n",
            "  \"\"\"Entry point for launching an IPython kernel.\n"
          ],
          "name": "stderr"
        },
        {
          "output_type": "display_data",
          "data": {
            "image/png": "[encoded data removed]",
            "text/plain": [
              "<Figure size 432x288 with 1 Axes>"
            ]
          },
          "metadata": {
            "tags": [],
            "needs_background": "light"
          }
        }
      ]
    },
    {
      "cell_type": "markdown",
      "metadata": {
        "id": "SQA_kxuYq7-V"
      },
      "source": [
        "###Probabilidad conjunta y condicional"
      ]
    },
    {
      "cell_type": "code",
      "metadata": {
        "colab": {
          "base_uri": "https://localhost:8080/"
        },
        "id": "pZyGld6Sq3qf",
        "outputId": "a3ce3f0c-52ab-4616-dae8-80958eb5afd2"
      },
      "source": [
        "##Hallamos probabilidad conjunta\n",
        "lista=np.zeros((len(char),len(char)))\n",
        "simbolos=[' ' ,'.' ,'a' ,'b' ,'c', 'd', 'e' ,'f', 'g', 'h', 'i', 'j', 'k', 'l', 'm', 'n', 'o', 'p',\n",
        " 'q', 'r', 's', 't', 'u', 'v', 'w', 'x', 'y', 'z']\n",
        "\n",
        "proconj=[]\n",
        "PC=np.zeros((28,28))##probabilidad condicional\n",
        "PJ=np.zeros((28,28))##probabilidad conjunta\n",
        "\n",
        "for i in simbolos: \n",
        "  proconj.append([int(a ==i) for a in st])\n",
        "\n",
        "for j in range (0, len(simbolos)):\n",
        "   for k in range (0, len(simbolos)):   \n",
        "    hist1,_,_=np.histogram2d(proconj[j], proconj[k], density=True)\n",
        "    hist1=hist1/np.sum(hist1)\n",
        "    pcond=hist1/hist1.sum(axis=0) ##probabilidad condicional\n",
        "\n",
        "    PJ[j,k]=hist1[-1,0]\n",
        "    PC[j,k]=pcond[-1,0]\n",
        "\n",
        "PC[PC==0]=1\n",
        "\n"
      ],
      "execution_count": 41,
      "outputs": [
        {
          "output_type": "stream",
          "text": [
            "/usr/local/lib/python3.7/dist-packages/ipykernel_launcher.py:17: RuntimeWarning: invalid value encountered in true_divide\n"
          ],
          "name": "stderr"
        }
      ]
    },
    {
      "cell_type": "markdown",
      "metadata": {
        "id": "_m0mHIK7rFXN"
      },
      "source": [
        "###Mapa de calor de las probabildades condicionales"
      ]
    },
    {
      "cell_type": "code",
      "metadata": {
        "colab": {
          "base_uri": "https://localhost:8080/",
          "height": 303
        },
        "id": "RrG5ZHrlrBun",
        "outputId": "242ed9c1-141e-4bea-d843-775e9749ab06"
      },
      "source": [
        "import seaborn as sns\n",
        "sns.heatmap(PC)"
      ],
      "execution_count": 42,
      "outputs": [
        {
          "output_type": "execute_result",
          "data": {
            "text/plain": [
              "<matplotlib.axes._subplots.AxesSubplot at 0x7f8007d71950>"
            ]
          },
          "metadata": {
            "tags": []
          },
          "execution_count": 42
        },
        {
          "output_type": "display_data",
          "data": {
            "image/png": "[encoded data removed]",
            "text/plain": [
              "<Figure size 432x288 with 2 Axes>"
            ]
          },
          "metadata": {
            "tags": [],
            "needs_background": "light"
          }
        }
      ]
    },
    {
      "cell_type": "markdown",
      "metadata": {
        "id": "BlcIL4QXrLzT"
      },
      "source": [
        "###Entropia conjunta y condicional"
      ]
    },
    {
      "cell_type": "code",
      "metadata": {
        "id": "LgAIzL2wrH8A"
      },
      "source": [
        "##Etropia condicional\n",
        "hcon1=np.zeros((28,28))\n",
        "for i in range (0, len(simbolos)):\n",
        "   for j in range (0, len(simbolos)): \n",
        "    hcon1[i,j]=-PC[i,j]*np.log2(PC[i,j])\n",
        "    \n",
        "#Entropia conjunta\n",
        "Hjun1=0\n",
        "for i in range (0, len(simbolos)):\n",
        "  for j in range (0, len(simbolos)):\n",
        "    if (PJ[i,j]!=0):\n",
        "      Hjun1=Hjun1+(PJ[i,j]*np.log2(PJ[i,j]))\n",
        "\n",
        "Hjun1=-Hjun1"
      ],
      "execution_count": 45,
      "outputs": []
    },
    {
      "cell_type": "markdown",
      "metadata": {
        "id": "h14WwwY5rbgW"
      },
      "source": [
        "####Mapa de calor entropia condicional "
      ]
    },
    {
      "cell_type": "code",
      "metadata": {
        "colab": {
          "base_uri": "https://localhost:8080/",
          "height": 299
        },
        "id": "81kaoR-wrOIO",
        "outputId": "5369cce1-4e8d-4117-dabb-fc06e9bc6741"
      },
      "source": [
        "sns.heatmap(hcon1)"
      ],
      "execution_count": 46,
      "outputs": [
        {
          "output_type": "execute_result",
          "data": {
            "text/plain": [
              "<matplotlib.axes._subplots.AxesSubplot at 0x7f80074ac950>"
            ]
          },
          "metadata": {
            "tags": []
          },
          "execution_count": 46
        },
        {
          "output_type": "display_data",
          "data": {
            "image/png": "[encoded data removed]",
            "text/plain": [
              "<Figure size 432x288 with 2 Axes>"
            ]
          },
          "metadata": {
            "tags": [],
            "needs_background": "light"
          }
        }
      ]
    },
    {
      "cell_type": "markdown",
      "metadata": {
        "id": "KvVpQorcrs2d"
      },
      "source": [
        "##Texto en español "
      ]
    },
    {
      "cell_type": "code",
      "metadata": {
        "colab": {
          "base_uri": "https://localhost:8080/"
        },
        "id": "slMOhtb2rlYt",
        "outputId": "4147fcaa-08f6-466e-8ceb-98384f52eaec"
      },
      "source": [
        "# Reading a tex\n",
        "import numpy as np\n",
        "from matplotlib import pyplot as plt\n",
        "import unicodedata\n",
        "\n",
        " \n",
        "with open(\"texto aleatorio.txt\") as f:\n",
        "    st2=f.read()\n",
        "    st2=unicodedata.normalize(\"NFKD\", st2)\n",
        "    a2 = np.array(list(st2))\n",
        " \n",
        "char2, cnt2 = np.unique(a2, return_counts=True)\n",
        "print(char2)\n",
        "x2=np.linspace(1,len(cnt2),len(cnt2))\n",
        "p2 = cnt2/np.sum(cnt2)\n",
        "\n",
        "H2 = -np.sum(p2 * np.log2(p2))\n",
        "\n",
        "prob2=np.zeros(len(cnt2))\n",
        "\n",
        "for i in range (0,len(cnt2)):\n",
        "  prob2[i]=cnt2[i]/np.sum(cnt2) \n",
        "\n",
        "print('La entropía es: ', H2)\n"
      ],
      "execution_count": 51,
      "outputs": [
        {
          "output_type": "stream",
          "text": [
            "['\\n' ' ' '!' ',' '-' '.' ':' ';' '?' 'a' 'b' 'c' 'd' 'e' 'f' 'g' 'h' 'i'\n",
            " 'j' 'l' 'm' 'n' 'o' 'p' 'q' 'r' 's' 't' 'u' 'v' 'w' 'x' 'y' 'z' '¡' '¿'\n",
            " '́' '̃' '̈' '–' '—' '“' '”']\n",
            "La entropía es:  4.2477248209653204\n"
          ],
          "name": "stdout"
        }
      ]
    },
    {
      "cell_type": "markdown",
      "metadata": {
        "id": "05JkJIShusZG"
      },
      "source": [
        "**Histograma**"
      ]
    },
    {
      "cell_type": "code",
      "metadata": {
        "colab": {
          "base_uri": "https://localhost:8080/",
          "height": 336
        },
        "id": "5xfRN8jSsBtK",
        "outputId": "51274e50-c20f-4290-8eed-923b9a3b1ea3"
      },
      "source": [
        "plt.stem(x2,p2,'b')\n",
        "plt.ylabel('P(x_n)')\n",
        "plt.show()"
      ],
      "execution_count": 53,
      "outputs": [
        {
          "output_type": "stream",
          "text": [
            "/usr/local/lib/python3.7/dist-packages/ipykernel_launcher.py:1: UserWarning: In Matplotlib 3.3 individual lines on a stem plot will be added as a LineCollection instead of individual lines. This significantly improves the performance of a stem plot. To remove this warning and switch to the new behaviour, set the \"use_line_collection\" keyword argument to True.\n",
            "  \"\"\"Entry point for launching an IPython kernel.\n"
          ],
          "name": "stderr"
        },
        {
          "output_type": "display_data",
          "data": {
            "image/png": "[encoded data removed]",
            "text/plain": [
              "<Figure size 432x288 with 1 Axes>"
            ]
          },
          "metadata": {
            "tags": [],
            "needs_background": "light"
          }
        }
      ]
    },
    {
      "cell_type": "markdown",
      "metadata": {
        "id": "iaZPzggWuy99"
      },
      "source": [
        "###Probabilidad conjunta y condicional"
      ]
    },
    {
      "cell_type": "code",
      "metadata": {
        "colab": {
          "base_uri": "https://localhost:8080/"
        },
        "id": "nw5y61YlutxO",
        "outputId": "99fa50e6-981c-4179-ef9f-c7d19634cd98"
      },
      "source": [
        "##Hallamos probabilidad conjunta\n",
        "lista2=np.zeros((len(char2),len(char2)))\n",
        "simbolos2=['\\n', ' ' ,'!', ',', '-', '.', ':', ';', '?', 'a', 'b', 'c', 'd', 'e', 'f', 'g', 'h', 'i',\n",
        " 'j', 'l', 'm', 'n', 'o', 'p', 'q', 'r', 's', 't', 'u', 'v', 'w', 'x', 'y', 'z', '¡', '¿',\n",
        " '́', '̃', '̈' ,'–' ,'—' ,'“', '”']\n",
        "\n",
        "proconj2=[]\n",
        "PC2=np.zeros((43,43))##probabilidad condicional\n",
        "PJ2=np.zeros((43,43))##probabilidad conjunta\n",
        "\n",
        "for i in simbolos2: \n",
        "  proconj2.append([int(a ==i) for a in st2])\n",
        "\n",
        "for j in range (0, len(simbolos2)):\n",
        "   for k in range (0, len(simbolos2)):   \n",
        "    hist2,_,_=np.histogram2d(proconj2[j], proconj2[k], density=True)\n",
        "    hist2=hist2/np.sum(hist2)\n",
        "    pcond2=hist2/hist2.sum(axis=0) ##probabilidad condicional\n",
        "\n",
        "    PJ2[j,k]=hist2[-1,0]\n",
        "    PC2[j,k]=pcond2[-1,0]\n",
        "\n",
        "PC2[PC2==0]=1\n"
      ],
      "execution_count": 54,
      "outputs": [
        {
          "output_type": "stream",
          "text": [
            "/usr/local/lib/python3.7/dist-packages/ipykernel_launcher.py:18: RuntimeWarning: invalid value encountered in true_divide\n"
          ],
          "name": "stderr"
        }
      ]
    },
    {
      "cell_type": "markdown",
      "metadata": {
        "id": "E56gkL5yvy4x"
      },
      "source": [
        "###Mapa de calor de las probabildades condicionales"
      ]
    },
    {
      "cell_type": "code",
      "metadata": {
        "colab": {
          "base_uri": "https://localhost:8080/",
          "height": 306
        },
        "id": "zYswAVFhvrt2",
        "outputId": "904daccc-2967-407b-d3ab-1cea0f3fc860"
      },
      "source": [
        "sns.heatmap(PC2)"
      ],
      "execution_count": 55,
      "outputs": [
        {
          "output_type": "execute_result",
          "data": {
            "text/plain": [
              "<matplotlib.axes._subplots.AxesSubplot at 0x7f800770d810>"
            ]
          },
          "metadata": {
            "tags": []
          },
          "execution_count": 55
        },
        {
          "output_type": "display_data",
          "data": {
            "image/png": "[encoded data removed]",
            "text/plain": [
              "<Figure size 432x288 with 2 Axes>"
            ]
          },
          "metadata": {
            "tags": [],
            "needs_background": "light"
          }
        }
      ]
    },
    {
      "cell_type": "markdown",
      "metadata": {
        "id": "PYsYAhPXwILe"
      },
      "source": [
        "###Entropia conjunta y condicional"
      ]
    },
    {
      "cell_type": "code",
      "metadata": {
        "id": "H0tQyZmtv1uX",
        "colab": {
          "base_uri": "https://localhost:8080/"
        },
        "outputId": "5c4e136d-c88f-4b1b-daa3-bda74d43a50e"
      },
      "source": [
        "##Etropia condicional\n",
        "hcon2=np.zeros((43,43))\n",
        "for i in range (0, len(simbolos2)):\n",
        "   for j in range (0, len(simbolos2)): \n",
        "    hcon2[i,j]=-PC2[i,j]*np.log2(PC2[i,j])\n",
        "    \n",
        "#Entropia conjunta\n",
        "Hjun2=0\n",
        "for i in range (0, len(simbolos2)):\n",
        "  for j in range (0, len(simbolos2)):\n",
        "    if (PJ2[i,j]!=0):\n",
        "      Hjun2=Hjun2+(PJ2[i,j]*np.log2(PJ2[i,j]))\n",
        "\n",
        "Hjun2=-Hjun2"
      ],
      "execution_count": 59,
      "outputs": [
        {
          "output_type": "execute_result",
          "data": {
            "text/plain": [
              "178.40444248054504"
            ]
          },
          "metadata": {
            "tags": []
          },
          "execution_count": 59
        }
      ]
    },
    {
      "cell_type": "markdown",
      "metadata": {
        "id": "achGKIP3wXpt"
      },
      "source": [
        "####Mapa de calor entropia condicional "
      ]
    },
    {
      "cell_type": "code",
      "metadata": {
        "colab": {
          "base_uri": "https://localhost:8080/",
          "height": 304
        },
        "id": "ESJeQvAVwN8E",
        "outputId": "982bd2b0-4306-435c-d089-e5be53c14065"
      },
      "source": [
        "sns.heatmap(hcon2)"
      ],
      "execution_count": 58,
      "outputs": [
        {
          "output_type": "execute_result",
          "data": {
            "text/plain": [
              "<matplotlib.axes._subplots.AxesSubplot at 0x7f8007315790>"
            ]
          },
          "metadata": {
            "tags": []
          },
          "execution_count": 58
        },
        {
          "output_type": "display_data",
          "data": {
            "image/png": "[encoded data removed]",
            "text/plain": [
              "<Figure size 432x288 with 2 Axes>"
            ]
          },
          "metadata": {
            "tags": [],
            "needs_background": "light"
          }
        }
      ]
    },
    {
      "cell_type": "code",
      "metadata": {
        "id": "HesVLte9wTmh"
      },
      "source": [
        ""
      ],
      "execution_count": null,
      "outputs": []
    }
  ]
}