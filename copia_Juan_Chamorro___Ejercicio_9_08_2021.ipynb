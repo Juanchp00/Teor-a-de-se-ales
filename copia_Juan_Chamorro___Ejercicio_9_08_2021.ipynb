{
  "nbformat": 4,
  "nbformat_minor": 0,
  "metadata": {
    "colab": {
      "name": "copia Juan Chamorro _ Ejercicio 9/08/2021.ipynb",
      "provenance": [],
      "authorship_tag": "ABX9TyN8j4CFWy2Qf+e1rswYU+dM",
      "include_colab_link": true
    },
    "kernelspec": {
      "name": "python3",
      "display_name": "Python 3"
    },
    "language_info": {
      "name": "python"
    }
  },
  "cells": [
    {
      "cell_type": "markdown",
      "metadata": {
        "id": "view-in-github",
        "colab_type": "text"
      },
      "source": [
        "<a href=\"https://colab.research.google.com/github/Juanchp00/Teor-a-de-se-ales/blob/Juanchp00-practica/copia_Juan_Chamorro___Ejercicio_9_08_2021.ipynb\" target=\"_parent\"><img src=\"https://colab.research.google.com/assets/colab-badge.svg\" alt=\"Open In Colab\"/></a>"
      ]
    },
    {
      "cell_type": "markdown",
      "metadata": {
        "id": "m-MHayRMvVce"
      },
      "source": [
        "##Texto en ingles "
      ]
    },
    {
      "cell_type": "markdown",
      "metadata": {
        "id": "kWxY8qvJvXCG"
      },
      "source": [
        "### Datos iniciales y Entropía "
      ]
    },
    {
      "cell_type": "code",
      "metadata": {
        "colab": {
          "base_uri": "https://localhost:8080/"
        },
        "id": "G36VFPrwnaAz",
        "outputId": "f360012d-0937-41ab-8639-d35e27a17e2c"
      },
      "source": [
        "# Reading a tex\n",
        "import numpy as np\n",
        "from matplotlib import pyplot as plt\n",
        "import unicodedata\n",
        "\n",
        " \n",
        "with open(\"EnglishRead (1).txt\") as f:\n",
        "    st=f.read()\n",
        "    st=unicodedata.normalize(\"NFKD\", st)\n",
        "    a = np.array(list(st))\n",
        " \n",
        "char, cnt = np.unique(a, return_counts=True)\n",
        "print(char)\n",
        "\n",
        "char=np.delete(char,0)\n",
        "cnt=np.delete(cnt,0)\n",
        "\n",
        "char=np.delete(char,0)\n",
        "cnt=np.delete(cnt,0)\n",
        "\n",
        "print(char)\n",
        "print(len(char))\n",
        "\n",
        "x=np.linspace(1,len(cnt),len(cnt))\n",
        "p = cnt/np.sum(cnt)\n",
        "\n",
        "H = -np.sum(p * np.log2(p))\n",
        "\n",
        "prob=np.zeros(len(cnt))\n",
        "\n",
        "for i in range (0,len(cnt)):\n",
        "  prob[i]=cnt[i]/np.sum(cnt) \n",
        "\n",
        "print('La entropía es: ', H)\n"
      ],
      "execution_count": 44,
      "outputs": [
        {
          "output_type": "stream",
          "text": [
            "[' ' '.' 'a' 'b' 'c' 'd' 'e' 'f' 'g' 'h' 'i' 'j' 'k' 'l' 'm' 'n' 'o' 'p'\n",
            " 'q' 'r' 's' 't' 'u' 'v' 'w' 'x' 'y' 'z']\n",
            "['a' 'b' 'c' 'd' 'e' 'f' 'g' 'h' 'i' 'j' 'k' 'l' 'm' 'n' 'o' 'p' 'q' 'r'\n",
            " 's' 't' 'u' 'v' 'w' 'x' 'y' 'z']\n",
            "26\n",
            "La entropía es:  4.160183191651573\n"
          ],
          "name": "stdout"
        }
      ]
    },
    {
      "cell_type": "markdown",
      "metadata": {
        "id": "4QBF9VyZvcuZ"
      },
      "source": [
        "**Histograma**"
      ]
    },
    {
      "cell_type": "code",
      "metadata": {
        "colab": {
          "base_uri": "https://localhost:8080/",
          "height": 336
        },
        "id": "G9mCIJrYoKl9",
        "outputId": "4113eac1-fd8a-4a3c-97fb-4ffe6da681a6"
      },
      "source": [
        "plt.stem(x,p,'b')\n",
        "plt.ylabel('P(x_n)')\n",
        "plt.show()"
      ],
      "execution_count": 18,
      "outputs": [
        {
          "output_type": "stream",
          "text": [
            "/usr/local/lib/python3.7/dist-packages/ipykernel_launcher.py:1: UserWarning: In Matplotlib 3.3 individual lines on a stem plot will be added as a LineCollection instead of individual lines. This significantly improves the performance of a stem plot. To remove this warning and switch to the new behaviour, set the \"use_line_collection\" keyword argument to True.\n",
            "  \"\"\"Entry point for launching an IPython kernel.\n"
          ],
          "name": "stderr"
        },
        {
          "output_type": "display_data",
          "data": {
            "image/png": "[encoded data removed]",
            "text/plain": [
              "<Figure size 432x288 with 1 Axes>"
            ]
          },
          "metadata": {
            "tags": [],
            "needs_background": "light"
          }
        }
      ]
    },
    {
      "cell_type": "markdown",
      "metadata": {
        "id": "Ypv6ILPsvfpa"
      },
      "source": [
        "###Probabilidad conjunta y condicional"
      ]
    },
    {
      "cell_type": "code",
      "metadata": {
        "colab": {
          "base_uri": "https://localhost:8080/"
        },
        "id": "bsaaPSSoq7Fa",
        "outputId": "7d8c6df8-03ef-4498-f5c9-712477f04e98"
      },
      "source": [
        "##Hallamos probabilidad conjunta\n",
        "lista=np.zeros((len(char),len(char)))\n",
        "simbolos=['a' ,'b' ,'c', 'd', 'e' ,'f', 'g', 'h', 'i', 'j', 'k', 'l', 'm', 'n', 'o', 'p',\n",
        " 'q', 'r', 's', 't', 'u', 'v', 'w', 'x', 'y', 'z']\n",
        "\n",
        "proconj=[]\n",
        "PC=np.zeros((26,26))##probabilidad condicional\n",
        "PJ=np.zeros((26,26))##probabilidad conjunta\n",
        "\n",
        "for i in simbolos: \n",
        "  proconj.append([int(a ==i) for a in st])\n",
        "\n",
        "for j in range (0, len(simbolos)):\n",
        "   for k in range (0, len(simbolos)):   \n",
        "    hist1,_,_=np.histogram2d(proconj[j], proconj[k], density=True)\n",
        "    hist1=hist1/np.sum(hist1)\n",
        "    pcond=hist1/hist1.sum(axis=0) ##probabilidad condicional\n",
        "\n",
        "    PJ[j,k]=hist1[-1,0]\n",
        "    PC[j,k]=pcond[-1,0]\n",
        "\n",
        "PC[PC==0]=1"
      ],
      "execution_count": 22,
      "outputs": [
        {
          "output_type": "stream",
          "text": [
            "/usr/local/lib/python3.7/dist-packages/ipykernel_launcher.py:17: RuntimeWarning: invalid value encountered in true_divide\n"
          ],
          "name": "stderr"
        }
      ]
    },
    {
      "cell_type": "markdown",
      "metadata": {
        "id": "0aUSNaT9vjJU"
      },
      "source": [
        "###Mapa de calor de las probabildades condicionales"
      ]
    },
    {
      "cell_type": "code",
      "metadata": {
        "colab": {
          "base_uri": "https://localhost:8080/",
          "height": 303
        },
        "id": "RmWL1F61rzoC",
        "outputId": "c612e4e6-78fa-45cb-e782-23a32069944f"
      },
      "source": [
        "import seaborn as sns\n",
        "sns.heatmap(PC)"
      ],
      "execution_count": 23,
      "outputs": [
        {
          "output_type": "execute_result",
          "data": {
            "text/plain": [
              "<matplotlib.axes._subplots.AxesSubplot at 0x7fc0631ff750>"
            ]
          },
          "metadata": {
            "tags": []
          },
          "execution_count": 23
        },
        {
          "output_type": "display_data",
          "data": {
            "image/png": "[encoded data removed]",
            "text/plain": [
              "<Figure size 432x288 with 2 Axes>"
            ]
          },
          "metadata": {
            "tags": [],
            "needs_background": "light"
          }
        }
      ]
    },
    {
      "cell_type": "markdown",
      "metadata": {
        "id": "XMFKNfCRvmPc"
      },
      "source": [
        "###Entropia conjunta y condicional"
      ]
    },
    {
      "cell_type": "code",
      "metadata": {
        "colab": {
          "base_uri": "https://localhost:8080/"
        },
        "id": "xnE-0J11r2ql",
        "outputId": "c307746a-59f4-45fe-e7c1-f02df5730a35"
      },
      "source": [
        "##Etropia condicional\n",
        "hcon1=np.zeros((26,26))\n",
        "for i in range (0, len(simbolos)):\n",
        "   for j in range (0, len(simbolos)): \n",
        "    hcon1[i,j]=-PC[i,j]*np.log2(PC[i,j])\n",
        "    \n",
        "#Entropia conjunta\n",
        "Hjun1=0\n",
        "for i in range (0, len(simbolos)):\n",
        "  for j in range (0, len(simbolos)):\n",
        "    if (PJ[i,j]!=0):\n",
        "      Hjun1=Hjun1+(PJ[i,j]*np.log2(PJ[i,j]))\n",
        "\n",
        "Hjun1=-Hjun1\n",
        "Hjun1"
      ],
      "execution_count": 24,
      "outputs": [
        {
          "output_type": "execute_result",
          "data": {
            "text/plain": [
              "90.71368875534068"
            ]
          },
          "metadata": {
            "tags": []
          },
          "execution_count": 24
        }
      ]
    },
    {
      "cell_type": "markdown",
      "metadata": {
        "id": "AMmbNbhAvpHY"
      },
      "source": [
        "####Mapa de calor entropia condicional "
      ]
    },
    {
      "cell_type": "code",
      "metadata": {
        "colab": {
          "base_uri": "https://localhost:8080/",
          "height": 299
        },
        "id": "QM6Avz7Wr7w3",
        "outputId": "5e4eef0e-402f-4cc9-8db6-6689323070bc"
      },
      "source": [
        "sns.heatmap(hcon1)"
      ],
      "execution_count": 25,
      "outputs": [
        {
          "output_type": "execute_result",
          "data": {
            "text/plain": [
              "<matplotlib.axes._subplots.AxesSubplot at 0x7fc07a409350>"
            ]
          },
          "metadata": {
            "tags": []
          },
          "execution_count": 25
        },
        {
          "output_type": "display_data",
          "data": {
            "image/png": "[encoded data removed]",
            "text/plain": [
              "<Figure size 432x288 with 2 Axes>"
            ]
          },
          "metadata": {
            "tags": [],
            "needs_background": "light"
          }
        }
      ]
    },
    {
      "cell_type": "markdown",
      "metadata": {
        "id": "bm4nUt7LsZs0"
      },
      "source": [
        "##Texto en español "
      ]
    },
    {
      "cell_type": "code",
      "metadata": {
        "colab": {
          "base_uri": "https://localhost:8080/"
        },
        "id": "T07EDfjzsWpv",
        "outputId": "96724ee8-42f7-4ec2-98c6-5d4951d62a48"
      },
      "source": [
        "# Reading a tex\n",
        "import numpy as np\n",
        "from matplotlib import pyplot as plt\n",
        "import unicodedata\n",
        "\n",
        " \n",
        "with open(\"texto aleatorio.txt\") as f:\n",
        "    st2=f.read()\n",
        "    st2=unicodedata.normalize(\"NFKD\", st2)\n",
        "    a2 = np.array(list(st2))\n",
        " \n",
        "char2, cnt2 = np.unique(a2, return_counts=True)\n",
        "print(char2)\n",
        "\n",
        "for i in range (0,9):\n",
        "  char2=np.delete(char2,0)\n",
        "  cnt2=np.delete(cnt2,0)\n",
        "\n",
        "for i in range (0,9):\n",
        "  char2=np.delete(char2,-1)\n",
        "  cnt2=np.delete(cnt2,-1)\n",
        "\n",
        "print(char2)\n",
        "print(len(char2))\n",
        "\n",
        "x2=np.linspace(1,len(cnt2),len(cnt2))\n",
        "p2 = cnt2/np.sum(cnt2)\n",
        "\n",
        "H2 = -np.sum(p2 * np.log2(p2))\n",
        "\n",
        "prob2=np.zeros(len(cnt2))\n",
        "\n",
        "for i in range (0,len(cnt2)):\n",
        "  prob2[i]=cnt2[i]/np.sum(cnt2) \n",
        "\n",
        "print('La entropía es: ', H2)"
      ],
      "execution_count": 43,
      "outputs": [
        {
          "output_type": "stream",
          "text": [
            "['\\n' ' ' '!' ',' '-' '.' ':' ';' '?' 'a' 'b' 'c' 'd' 'e' 'f' 'g' 'h' 'i'\n",
            " 'j' 'l' 'm' 'n' 'o' 'p' 'q' 'r' 's' 't' 'u' 'v' 'w' 'x' 'y' 'z' '¡' '¿'\n",
            " '́' '̃' '̈' '–' '—' '“' '”']\n",
            "['a' 'b' 'c' 'd' 'e' 'f' 'g' 'h' 'i' 'j' 'l' 'm' 'n' 'o' 'p' 'q' 'r' 's'\n",
            " 't' 'u' 'v' 'w' 'x' 'y' 'z']\n",
            "25\n",
            "La entropía es:  4.022775614684244\n"
          ],
          "name": "stdout"
        }
      ]
    },
    {
      "cell_type": "markdown",
      "metadata": {
        "id": "wq-nMFpivvFC"
      },
      "source": [
        "**Histograma**"
      ]
    },
    {
      "cell_type": "code",
      "metadata": {
        "colab": {
          "base_uri": "https://localhost:8080/",
          "height": 336
        },
        "id": "EiLnIoKCskb8",
        "outputId": "fbd95b15-087a-4b4c-a63d-bb597e9612d8"
      },
      "source": [
        "plt.stem(x2,p2,'b')\n",
        "plt.ylabel('P(x_n)')\n",
        "plt.show()"
      ],
      "execution_count": 35,
      "outputs": [
        {
          "output_type": "stream",
          "text": [
            "/usr/local/lib/python3.7/dist-packages/ipykernel_launcher.py:1: UserWarning: In Matplotlib 3.3 individual lines on a stem plot will be added as a LineCollection instead of individual lines. This significantly improves the performance of a stem plot. To remove this warning and switch to the new behaviour, set the \"use_line_collection\" keyword argument to True.\n",
            "  \"\"\"Entry point for launching an IPython kernel.\n"
          ],
          "name": "stderr"
        },
        {
          "output_type": "display_data",
          "data": {
            "image/png": "[encoded data removed]",
            "text/plain": [
              "<Figure size 432x288 with 1 Axes>"
            ]
          },
          "metadata": {
            "tags": [],
            "needs_background": "light"
          }
        }
      ]
    },
    {
      "cell_type": "markdown",
      "metadata": {
        "id": "zG5fOxNjvx_C"
      },
      "source": [
        "###Probabilidad conjunta y condicional"
      ]
    },
    {
      "cell_type": "code",
      "metadata": {
        "colab": {
          "base_uri": "https://localhost:8080/"
        },
        "id": "gAw2HuR2urPR",
        "outputId": "8856a2d1-28c0-4c95-b8a3-cc2ceb0a2923"
      },
      "source": [
        "##Hallamos probabilidad conjunta\n",
        "lista2=np.zeros((len(char2),len(char2)))\n",
        "simbolos2=['a', 'b', 'c', 'd', 'e', 'f', 'g', 'h', 'i',\n",
        " 'j', 'l', 'm', 'n', 'o', 'p', 'q', 'r', 's', 't', 'u', 'v', 'w', 'x', 'y', 'z']\n",
        "\n",
        "proconj2=[]\n",
        "PC2=np.zeros((len(simbolos2),len(simbolos2)))##probabilidad condicional\n",
        "PJ2=np.zeros((len(simbolos2),len(simbolos2)))##probabilidad conjunta\n",
        "\n",
        "for i in simbolos2: \n",
        "  proconj2.append([int(a ==i) for a in st2])\n",
        "\n",
        "for j in range (0, len(simbolos2)):\n",
        "   for k in range (0, len(simbolos2)):   \n",
        "    hist2,_,_=np.histogram2d(proconj2[j], proconj2[k], density=True)\n",
        "    hist2=hist2/np.sum(hist2)\n",
        "    pcond2=hist2/hist2.sum(axis=0) ##probabilidad condicional\n",
        "\n",
        "    PJ2[j,k]=hist2[-1,0]\n",
        "    PC2[j,k]=pcond2[-1,0]\n",
        "\n",
        "PC2[PC2==0]=1"
      ],
      "execution_count": 39,
      "outputs": [
        {
          "output_type": "stream",
          "text": [
            "/usr/local/lib/python3.7/dist-packages/ipykernel_launcher.py:17: RuntimeWarning: invalid value encountered in true_divide\n"
          ],
          "name": "stderr"
        }
      ]
    },
    {
      "cell_type": "markdown",
      "metadata": {
        "id": "-ap7akdPv00N"
      },
      "source": [
        "###Mapa de calor de las probabildades condicionales"
      ]
    },
    {
      "cell_type": "code",
      "metadata": {
        "colab": {
          "base_uri": "https://localhost:8080/",
          "height": 306
        },
        "id": "gcpSUFOyuvee",
        "outputId": "5c4f095c-32a8-46ae-9695-3cf389b1d94e"
      },
      "source": [
        "sns.heatmap(PC2)"
      ],
      "execution_count": 40,
      "outputs": [
        {
          "output_type": "execute_result",
          "data": {
            "text/plain": [
              "<matplotlib.axes._subplots.AxesSubplot at 0x7fc062f51e10>"
            ]
          },
          "metadata": {
            "tags": []
          },
          "execution_count": 40
        },
        {
          "output_type": "display_data",
          "data": {
            "image/png": "[encoded data removed]",
            "text/plain": [
              "<Figure size 432x288 with 2 Axes>"
            ]
          },
          "metadata": {
            "tags": [],
            "needs_background": "light"
          }
        }
      ]
    },
    {
      "cell_type": "markdown",
      "metadata": {
        "id": "wPADyOn5v3sL"
      },
      "source": [
        "###Entropia conjunta y condicional"
      ]
    },
    {
      "cell_type": "code",
      "metadata": {
        "colab": {
          "base_uri": "https://localhost:8080/"
        },
        "id": "OjR57vY6u2XB",
        "outputId": "6f115f38-4b40-4ef3-986c-02b5dde333e2"
      },
      "source": [
        "##Etropia condicional\n",
        "hcon2=np.zeros((len(simbolos2),len(simbolos2)))\n",
        "for i in range (0, len(simbolos2)):\n",
        "   for j in range (0, len(simbolos2)): \n",
        "    hcon2[i,j]=-PC2[i,j]*np.log2(PC2[i,j])\n",
        "    \n",
        "#Entropia conjunta\n",
        "Hjun2=0\n",
        "for i in range (0, len(simbolos2)):\n",
        "  for j in range (0, len(simbolos2)):\n",
        "    if (PJ2[i,j]!=0):\n",
        "      Hjun2=Hjun2+(PJ2[i,j]*np.log2(PJ2[i,j]))\n",
        "\n",
        "Hjun2=-Hjun2\n",
        "Hjun2"
      ],
      "execution_count": 41,
      "outputs": [
        {
          "output_type": "execute_result",
          "data": {
            "text/plain": [
              "81.65976292413946"
            ]
          },
          "metadata": {
            "tags": []
          },
          "execution_count": 41
        }
      ]
    },
    {
      "cell_type": "markdown",
      "metadata": {
        "id": "UgDxcZGXv7qP"
      },
      "source": [
        "####Mapa de calor entropia condicional "
      ]
    },
    {
      "cell_type": "code",
      "metadata": {
        "colab": {
          "base_uri": "https://localhost:8080/",
          "height": 302
        },
        "id": "BiaiEr2QvKtZ",
        "outputId": "cc574220-3274-45e3-e857-0afe5fcabe61"
      },
      "source": [
        "sns.heatmap(hcon2)"
      ],
      "execution_count": 42,
      "outputs": [
        {
          "output_type": "execute_result",
          "data": {
            "text/plain": [
              "<matplotlib.axes._subplots.AxesSubplot at 0x7fc062e5ed50>"
            ]
          },
          "metadata": {
            "tags": []
          },
          "execution_count": 42
        },
        {
          "output_type": "display_data",
          "data": {
            "image/png": "[encoded data removed]",
            "text/plain": [
              "<Figure size 432x288 with 2 Axes>"
            ]
          },
          "metadata": {
            "tags": [],
            "needs_background": "light"
          }
        }
      ]
    },
    {
      "cell_type": "markdown",
      "metadata": {
        "id": "tPXIFshFv60y"
      },
      "source": [
        ""
      ]
    },
    {
      "cell_type": "code",
      "metadata": {
        "id": "RlpTWm6OvM9d"
      },
      "source": [
        ""
      ],
      "execution_count": null,
      "outputs": []
    }
  ]
}